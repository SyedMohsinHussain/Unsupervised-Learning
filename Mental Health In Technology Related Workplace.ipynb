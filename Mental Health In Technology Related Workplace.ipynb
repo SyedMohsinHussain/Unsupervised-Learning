{
  "nbformat": 4,
  "nbformat_minor": 0,
  "metadata": {
    "colab": {
      "provenance": []
    },
    "kernelspec": {
      "name": "python3",
      "display_name": "Python 3"
    },
    "language_info": {
      "name": "python"
    }
  },
  "cells": [
    {
      "cell_type": "code",
      "source": [
        "# Step 1: Load the necessary libraries\n",
        "import pandas as pd\n",
        "import numpy as np\n",
        "import matplotlib.pyplot as plt\n",
        "import seaborn as sns\n",
        "from sklearn.preprocessing import StandardScaler\n",
        "from sklearn.decomposition import PCA\n",
        "from sklearn.cluster import KMeans\n",
        "from sklearn.impute import SimpleImputer\n",
        "from sklearn.manifold import TSNE\n",
        "import warnings\n",
        "warnings.filterwarnings('ignore')"
      ],
      "metadata": {
        "id": "J0P3-rnSzw0-"
      },
      "execution_count": null,
      "outputs": []
    },
    {
      "cell_type": "code",
      "source": [
        "# Step 2: Load the dataset\n",
        "file_path = '/content/mental-heath-in-tech-2016_20161114.csv'\n",
        "df = pd.read_csv(file_path)\n"
      ],
      "metadata": {
        "id": "loCU84w4z1Pz"
      },
      "execution_count": null,
      "outputs": []
    },
    {
      "cell_type": "code",
      "source": [
        "# Step 3: Initial exploration of the dataset\n",
        "print(df.info())  # Check for data types and missing values\n",
        "print(df.describe())  # Summary statistics\n",
        "print(df.head())  # First few rows to get an understanding of the data"
      ],
      "metadata": {
        "colab": {
          "base_uri": "https://localhost:8080/"
        },
        "id": "Bo9DgfVYz_o2",
        "outputId": "0d7f41ef-7214-4fc3-f7de-e146d68afa4b"
      },
      "execution_count": null,
      "outputs": [
        {
          "output_type": "stream",
          "name": "stdout",
          "text": [
            "<class 'pandas.core.frame.DataFrame'>\n",
            "RangeIndex: 1433 entries, 0 to 1432\n",
            "Data columns (total 63 columns):\n",
            " #   Column                                                                                                                                                                            Non-Null Count  Dtype  \n",
            "---  ------                                                                                                                                                                            --------------  -----  \n",
            " 0   Are you self-employed?                                                                                                                                                            1433 non-null   int64  \n",
            " 1   How many employees does your company or organization have?                                                                                                                        1146 non-null   object \n",
            " 2   Is your employer primarily a tech company/organization?                                                                                                                           1146 non-null   float64\n",
            " 3   Is your primary role within your company related to tech/IT?                                                                                                                      263 non-null    float64\n",
            " 4   Does your employer provide mental health benefits as part of healthcare coverage?                                                                                                 1146 non-null   object \n",
            " 5   Do you know the options for mental health care available under your employer-provided coverage?                                                                                   1013 non-null   object \n",
            " 6   Has your employer ever formally discussed mental health (for example, as part of a wellness campaign or other official communication)?                                            1146 non-null   object \n",
            " 7   Does your employer offer resources to learn more about mental health concerns and options for seeking help?                                                                       1146 non-null   object \n",
            " 8   Is your anonymity protected if you choose to take advantage of mental health or substance abuse treatment resources provided by your employer?                                    1146 non-null   object \n",
            " 9   If a mental health issue prompted you to request a medical leave from work, asking for that leave would be:                                                                       1146 non-null   object \n",
            " 10  Do you think that discussing a mental health disorder with your employer would have negative consequences?                                                                        1146 non-null   object \n",
            " 11  Do you think that discussing a physical health issue with your employer would have negative consequences?                                                                         1146 non-null   object \n",
            " 12  Would you feel comfortable discussing a mental health disorder with your coworkers?                                                                                               1146 non-null   object \n",
            " 13  Would you feel comfortable discussing a mental health disorder with your direct supervisor(s)?                                                                                    1146 non-null   object \n",
            " 14  Do you feel that your employer takes mental health as seriously as physical health?                                                                                               1146 non-null   object \n",
            " 15  Have you heard of or observed negative consequences for co-workers who have been open about mental health issues in your workplace?                                               1146 non-null   object \n",
            " 16  Do you have medical coverage (private insurance or state-provided) which includes treatment of  mental health issues?                                                             287 non-null    float64\n",
            " 17  Do you know local or online resources to seek help for a mental health disorder?                                                                                                  287 non-null    object \n",
            " 18  If you have been diagnosed or treated for a mental health disorder, do you ever reveal this to clients or business contacts?                                                      287 non-null    object \n",
            " 19  If you have revealed a mental health issue to a client or business contact, do you believe this has impacted you negatively?                                                      144 non-null    object \n",
            " 20  If you have been diagnosed or treated for a mental health disorder, do you ever reveal this to coworkers or employees?                                                            287 non-null    object \n",
            " 21  If you have revealed a mental health issue to a coworker or employee, do you believe this has impacted you negatively?                                                            287 non-null    object \n",
            " 22  Do you believe your productivity is ever affected by a mental health issue?                                                                                                       287 non-null    object \n",
            " 23  If yes, what percentage of your work time (time performing primary or secondary job functions) is affected by a mental health issue?                                              204 non-null    object \n",
            " 24  Do you have previous employers?                                                                                                                                                   1433 non-null   int64  \n",
            " 25  Have your previous employers provided mental health benefits?                                                                                                                     1264 non-null   object \n",
            " 26  Were you aware of the options for mental health care provided by your previous employers?                                                                                         1264 non-null   object \n",
            " 27  Did your previous employers ever formally discuss mental health (as part of a wellness campaign or other official communication)?                                                 1264 non-null   object \n",
            " 28  Did your previous employers provide resources to learn more about mental health issues and how to seek help?                                                                      1264 non-null   object \n",
            " 29  Was your anonymity protected if you chose to take advantage of mental health or substance abuse treatment resources with previous employers?                                      1264 non-null   object \n",
            " 30  Do you think that discussing a mental health disorder with previous employers would have negative consequences?                                                                   1264 non-null   object \n",
            " 31  Do you think that discussing a physical health issue with previous employers would have negative consequences?                                                                    1264 non-null   object \n",
            " 32  Would you have been willing to discuss a mental health issue with your previous co-workers?                                                                                       1264 non-null   object \n",
            " 33  Would you have been willing to discuss a mental health issue with your direct supervisor(s)?                                                                                      1264 non-null   object \n",
            " 34  Did you feel that your previous employers took mental health as seriously as physical health?                                                                                     1264 non-null   object \n",
            " 35  Did you hear of or observe negative consequences for co-workers with mental health issues in your previous workplaces?                                                            1264 non-null   object \n",
            " 36  Would you be willing to bring up a physical health issue with a potential employer in an interview?                                                                               1433 non-null   object \n",
            " 37  Why or why not?                                                                                                                                                                   1095 non-null   object \n",
            " 38  Would you bring up a mental health issue with a potential employer in an interview?                                                                                               1433 non-null   object \n",
            " 39  Why or why not?.1                                                                                                                                                                 1126 non-null   object \n",
            " 40  Do you feel that being identified as a person with a mental health issue would hurt your career?                                                                                  1433 non-null   object \n",
            " 41  Do you think that team members/co-workers would view you more negatively if they knew you suffered from a mental health issue?                                                    1433 non-null   object \n",
            " 42  How willing would you be to share with friends and family that you have a mental illness?                                                                                         1433 non-null   object \n",
            " 43  Have you observed or experienced an unsupportive or badly handled response to a mental health issue in your current or previous workplace?                                        1344 non-null   object \n",
            " 44  Have your observations of how another individual who discussed a mental health disorder made you less likely to reveal a mental health issue yourself in your current workplace?  657 non-null    object \n",
            " 45  Do you have a family history of mental illness?                                                                                                                                   1433 non-null   object \n",
            " 46  Have you had a mental health disorder in the past?                                                                                                                                1433 non-null   object \n",
            " 47  Do you currently have a mental health disorder?                                                                                                                                   1433 non-null   object \n",
            " 48  If yes, what condition(s) have you been diagnosed with?                                                                                                                           568 non-null    object \n",
            " 49  If maybe, what condition(s) do you believe you have?                                                                                                                              322 non-null    object \n",
            " 50  Have you been diagnosed with a mental health condition by a medical professional?                                                                                                 1433 non-null   object \n",
            " 51  If so, what condition(s) were you diagnosed with?                                                                                                                                 711 non-null    object \n",
            " 52  Have you ever sought treatment for a mental health issue from a mental health professional?                                                                                       1433 non-null   int64  \n",
            " 53  If you have a mental health issue, do you feel that it interferes with your work when being treated effectively?                                                                  1433 non-null   object \n",
            " 54  If you have a mental health issue, do you feel that it interferes with your work when NOT being treated effectively?                                                              1433 non-null   object \n",
            " 55  What is your age?                                                                                                                                                                 1433 non-null   int64  \n",
            " 56  What is your gender?                                                                                                                                                              1430 non-null   object \n",
            " 57  What country do you live in?                                                                                                                                                      1433 non-null   object \n",
            " 58  What US state or territory do you live in?                                                                                                                                        840 non-null    object \n",
            " 59  What country do you work in?                                                                                                                                                      1433 non-null   object \n",
            " 60  What US state or territory do you work in?                                                                                                                                        851 non-null    object \n",
            " 61  Which of the following best describes your work position?                                                                                                                         1433 non-null   object \n",
            " 62  Do you work remotely?                                                                                                                                                             1433 non-null   object \n",
            "dtypes: float64(3), int64(4), object(56)\n",
            "memory usage: 705.4+ KB\n",
            "None\n",
            "       Are you self-employed?  \\\n",
            "count             1433.000000   \n",
            "mean                 0.200279   \n",
            "std                  0.400349   \n",
            "min                  0.000000   \n",
            "25%                  0.000000   \n",
            "50%                  0.000000   \n",
            "75%                  0.000000   \n",
            "max                  1.000000   \n",
            "\n",
            "       Is your employer primarily a tech company/organization?  \\\n",
            "count                                        1146.000000         \n",
            "mean                                            0.770506         \n",
            "std                                             0.420691         \n",
            "min                                             0.000000         \n",
            "25%                                             1.000000         \n",
            "50%                                             1.000000         \n",
            "75%                                             1.000000         \n",
            "max                                             1.000000         \n",
            "\n",
            "       Is your primary role within your company related to tech/IT?  \\\n",
            "count                                         263.000000              \n",
            "mean                                            0.942966              \n",
            "std                                             0.232350              \n",
            "min                                             0.000000              \n",
            "25%                                             1.000000              \n",
            "50%                                             1.000000              \n",
            "75%                                             1.000000              \n",
            "max                                             1.000000              \n",
            "\n",
            "       Do you have medical coverage (private insurance or state-provided) which includes treatment of  mental health issues?  \\\n",
            "count                                         287.000000                                                                       \n",
            "mean                                            0.644599                                                                       \n",
            "std                                             0.479471                                                                       \n",
            "min                                             0.000000                                                                       \n",
            "25%                                             0.000000                                                                       \n",
            "50%                                             1.000000                                                                       \n",
            "75%                                             1.000000                                                                       \n",
            "max                                             1.000000                                                                       \n",
            "\n",
            "       Do you have previous employers?  \\\n",
            "count                      1433.000000   \n",
            "mean                          0.882066   \n",
            "std                           0.322643   \n",
            "min                           0.000000   \n",
            "25%                           1.000000   \n",
            "50%                           1.000000   \n",
            "75%                           1.000000   \n",
            "max                           1.000000   \n",
            "\n",
            "       Have you ever sought treatment for a mental health issue from a mental health professional?  \\\n",
            "count                                        1433.000000                                             \n",
            "mean                                            0.585485                                             \n",
            "std                                             0.492810                                             \n",
            "min                                             0.000000                                             \n",
            "25%                                             0.000000                                             \n",
            "50%                                             1.000000                                             \n",
            "75%                                             1.000000                                             \n",
            "max                                             1.000000                                             \n",
            "\n",
            "       What is your age?  \n",
            "count        1433.000000  \n",
            "mean           34.286113  \n",
            "std            11.290931  \n",
            "min             3.000000  \n",
            "25%            28.000000  \n",
            "50%            33.000000  \n",
            "75%            39.000000  \n",
            "max           323.000000  \n",
            "   Are you self-employed?  \\\n",
            "0                       0   \n",
            "1                       0   \n",
            "2                       0   \n",
            "3                       1   \n",
            "4                       0   \n",
            "\n",
            "  How many employees does your company or organization have?  \\\n",
            "0                                             26-100           \n",
            "1                                               6-25           \n",
            "2                                               6-25           \n",
            "3                                                NaN           \n",
            "4                                               6-25           \n",
            "\n",
            "   Is your employer primarily a tech company/organization?  \\\n",
            "0                                                1.0         \n",
            "1                                                1.0         \n",
            "2                                                1.0         \n",
            "3                                                NaN         \n",
            "4                                                0.0         \n",
            "\n",
            "   Is your primary role within your company related to tech/IT?  \\\n",
            "0                                                NaN              \n",
            "1                                                NaN              \n",
            "2                                                NaN              \n",
            "3                                                NaN              \n",
            "4                                                1.0              \n",
            "\n",
            "  Does your employer provide mental health benefits as part of healthcare coverage?  \\\n",
            "0                    Not eligible for coverage / N/A                                  \n",
            "1                                                 No                                  \n",
            "2                                                 No                                  \n",
            "3                                                NaN                                  \n",
            "4                                                Yes                                  \n",
            "\n",
            "  Do you know the options for mental health care available under your employer-provided coverage?  \\\n",
            "0                                                NaN                                                \n",
            "1                                                Yes                                                \n",
            "2                                                NaN                                                \n",
            "3                                                NaN                                                \n",
            "4                                                Yes                                                \n",
            "\n",
            "  Has your employer ever formally discussed mental health (for example, as part of a wellness campaign or other official communication)?  \\\n",
            "0                                                 No                                                                                       \n",
            "1                                                Yes                                                                                       \n",
            "2                                                 No                                                                                       \n",
            "3                                                NaN                                                                                       \n",
            "4                                                 No                                                                                       \n",
            "\n",
            "  Does your employer offer resources to learn more about mental health concerns and options for seeking help?  \\\n",
            "0                                                 No                                                            \n",
            "1                                                Yes                                                            \n",
            "2                                                 No                                                            \n",
            "3                                                NaN                                                            \n",
            "4                                                 No                                                            \n",
            "\n",
            "  Is your anonymity protected if you choose to take advantage of mental health or substance abuse treatment resources provided by your employer?  \\\n",
            "0                                       I don't know                                                                                               \n",
            "1                                                Yes                                                                                               \n",
            "2                                       I don't know                                                                                               \n",
            "3                                                NaN                                                                                               \n",
            "4                                                 No                                                                                               \n",
            "\n",
            "  If a mental health issue prompted you to request a medical leave from work, asking for that leave would be:  \\\n",
            "0                                          Very easy                                                            \n",
            "1                                      Somewhat easy                                                            \n",
            "2                         Neither easy nor difficult                                                            \n",
            "3                                                NaN                                                            \n",
            "4                         Neither easy nor difficult                                                            \n",
            "\n",
            "   ...  \\\n",
            "0  ...   \n",
            "1  ...   \n",
            "2  ...   \n",
            "3  ...   \n",
            "4  ...   \n",
            "\n",
            "  If you have a mental health issue, do you feel that it interferes with your work when being treated effectively?  \\\n",
            "0                               Not applicable to me                                                                 \n",
            "1                                             Rarely                                                                 \n",
            "2                               Not applicable to me                                                                 \n",
            "3                                          Sometimes                                                                 \n",
            "4                                          Sometimes                                                                 \n",
            "\n",
            "  If you have a mental health issue, do you feel that it interferes with your work when NOT being treated effectively?  \\\n",
            "0                               Not applicable to me                                                                     \n",
            "1                                          Sometimes                                                                     \n",
            "2                               Not applicable to me                                                                     \n",
            "3                                          Sometimes                                                                     \n",
            "4                                          Sometimes                                                                     \n",
            "\n",
            "  What is your age? What is your gender? What country do you live in?  \\\n",
            "0                39                 Male               United Kingdom   \n",
            "1                29                 male     United States of America   \n",
            "2                38                Male                United Kingdom   \n",
            "3                43                 male               United Kingdom   \n",
            "4                43               Female     United States of America   \n",
            "\n",
            "  What US state or territory do you live in?  What country do you work in?  \\\n",
            "0                                        NaN                United Kingdom   \n",
            "1                                   Illinois      United States of America   \n",
            "2                                        NaN                United Kingdom   \n",
            "3                                        NaN                United Kingdom   \n",
            "4                                   Illinois      United States of America   \n",
            "\n",
            "  What US state or territory do you work in?  \\\n",
            "0                                        NaN   \n",
            "1                                   Illinois   \n",
            "2                                        NaN   \n",
            "3                                        NaN   \n",
            "4                                   Illinois   \n",
            "\n",
            "  Which of the following best describes your work position?  \\\n",
            "0                                 Back-end Developer          \n",
            "1             Back-end Developer|Front-end Developer          \n",
            "2                                 Back-end Developer          \n",
            "3                               Supervisor/Team Lead          \n",
            "4  Executive Leadership|Supervisor/Team Lead|Dev ...          \n",
            "\n",
            "  Do you work remotely?  \n",
            "0             Sometimes  \n",
            "1                 Never  \n",
            "2                Always  \n",
            "3             Sometimes  \n",
            "4             Sometimes  \n",
            "\n",
            "[5 rows x 63 columns]\n"
          ]
        }
      ]
    },
    {
      "cell_type": "code",
      "source": [
        "# Step 4: Handling missing values\n",
        "# Impute missing numerical values with mean and categorical with mode\n",
        "num_imputer = SimpleImputer(strategy='mean')\n",
        "cat_imputer = SimpleImputer(strategy='most_frequent')"
      ],
      "metadata": {
        "id": "xwP1KEfK0CcY"
      },
      "execution_count": null,
      "outputs": []
    },
    {
      "cell_type": "code",
      "source": [
        "# Separate numerical and categorical columns\n",
        "num_cols = df.select_dtypes(include=[np.number]).columns\n",
        "cat_cols = df.select_dtypes(exclude=[np.number]).columns"
      ],
      "metadata": {
        "id": "ZoN55db30I5Q"
      },
      "execution_count": null,
      "outputs": []
    },
    {
      "cell_type": "code",
      "source": [
        "# Apply imputers\n",
        "df[num_cols] = num_imputer.fit_transform(df[num_cols])\n",
        "df[cat_cols] = cat_imputer.fit_transform(df[cat_cols])"
      ],
      "metadata": {
        "id": "nSrH5xc30MMT"
      },
      "execution_count": null,
      "outputs": []
    },
    {
      "cell_type": "code",
      "source": [
        "# Step 5: Textual data standardization for \"Have you had a mental health disorder in the past?\"\n",
        "# Standardize the column to Yes, No, and Uncertain (replacing Maybe)\n",
        "df['Have you had a mental health disorder in the past?'] = df['Have you had a mental health disorder in the past?'].str.lower()\n",
        "df['Have you had a mental health disorder in the past?'] = df['Have you had a mental health disorder in the past?'].replace('maybe', 'Uncertain')\n",
        "df['Have you had a mental health disorder in the past?'] = df['Have you had a mental health disorder in the past?'].fillna('Uncertain')"
      ],
      "metadata": {
        "id": "I3NYGLCY0ma9"
      },
      "execution_count": null,
      "outputs": []
    },
    {
      "cell_type": "code",
      "source": [
        "# Step 6: Dimensionality reduction (using PCA)\n",
        "# Standardize the numerical features before applying PCA\n",
        "scaler = StandardScaler()\n",
        "scaled_df = scaler.fit_transform(df.select_dtypes(include=[np.number]))"
      ],
      "metadata": {
        "id": "ttgL9csV1vOZ"
      },
      "execution_count": null,
      "outputs": []
    },
    {
      "cell_type": "code",
      "source": [
        "# Apply PCA to reduce dimensionality to 2 components\n",
        "pca = PCA(n_components=2)\n",
        "pca_result = pca.fit_transform(scaled_df)"
      ],
      "metadata": {
        "id": "lsjceogd1yf0"
      },
      "execution_count": null,
      "outputs": []
    },
    {
      "cell_type": "code",
      "source": [
        "# Create a DataFrame for PCA results for visualization\n",
        "pca_df = pd.DataFrame(pca_result, columns=['PC1', 'PC2'])"
      ],
      "metadata": {
        "id": "BcDuzTDX11XV"
      },
      "execution_count": null,
      "outputs": []
    },
    {
      "cell_type": "code",
      "source": [
        "# Step 7: Clustering (using KMeans)\n",
        "# Use KMeans to create clusters\n",
        "kmeans = KMeans(n_clusters=3)  # Set the number of clusters to 3 (can be adjusted based on analysis)\n",
        "kmeans.fit(pca_df)\n",
        "pca_df['Cluster'] = kmeans.labels_"
      ],
      "metadata": {
        "id": "j1M0S91214ea"
      },
      "execution_count": null,
      "outputs": []
    },
    {
      "cell_type": "code",
      "source": [
        "# Step 8: Visualizing the clusters\n",
        "plt.figure(figsize=(10, 6))\n",
        "sns.scatterplot(x='PC1', y='PC2', hue='Cluster', data=pca_df, palette='viridis')\n",
        "plt.title('PCA Clustering of Mental Health Survey Responses')\n",
        "plt.xlabel('Principal Component 1')\n",
        "plt.ylabel('Principal Component 2')\n",
        "plt.show()"
      ],
      "metadata": {
        "colab": {
          "base_uri": "https://localhost:8080/",
          "height": 564
        },
        "id": "OuTJJEaK18eM",
        "outputId": "45faeaa2-772d-435c-bdba-0adf8976c496"
      },
      "execution_count": null,
      "outputs": [
        {
          "output_type": "display_data",
          "data": {
            "text/plain": [
              "<Figure size 1000x600 with 1 Axes>"
            ],
            "image/png": "[encoded data removed]"
          },
          "metadata": {}
        }
      ]
    },
    {
      "cell_type": "code",
      "source": [
        "# Step 9: Insights into each cluster\n",
        "# Add the cluster labels to the original DataFrame\n",
        "df['Cluster'] = pca_df['Cluster']"
      ],
      "metadata": {
        "id": "JItc87Rm1-jk"
      },
      "execution_count": null,
      "outputs": []
    },
    {
      "cell_type": "code",
      "source": [
        "# Step 9: Insights into each cluster\n",
        "# Add the cluster labels to the original DataFrame\n",
        "df['Cluster'] = pca_df['Cluster']\n",
        "\n"
      ],
      "metadata": {
        "id": "6Nh_QUc62D3e"
      },
      "execution_count": null,
      "outputs": []
    },
    {
      "cell_type": "code",
      "source": [
        "# Get the summary statistics for numeric features only\n",
        "numeric_cols = df.select_dtypes(include=[np.number]).columns\n",
        "cluster_summary = df.groupby('Cluster')[numeric_cols].mean()\n",
        "print(\"Cluster Summary Statistics (for numeric columns):\")\n",
        "print(cluster_summary)"
      ],
      "metadata": {
        "colab": {
          "base_uri": "https://localhost:8080/"
        },
        "id": "prWOBk-H2USl",
        "outputId": "76febf03-a242-45e7-a7c8-479c18c009ba"
      },
      "execution_count": null,
      "outputs": [
        {
          "output_type": "stream",
          "name": "stdout",
          "text": [
            "Cluster Summary Statistics (for numeric columns):\n",
            "         Are you self-employed?  \\\n",
            "Cluster                           \n",
            "0                      0.584239   \n",
            "1                      0.005109   \n",
            "2                      0.241135   \n",
            "\n",
            "         Is your employer primarily a tech company/organization?  \\\n",
            "Cluster                                                            \n",
            "0                                                 0.558855         \n",
            "1                                                 0.959236         \n",
            "2                                                 0.522675         \n",
            "\n",
            "         Is your primary role within your company related to tech/IT?  \\\n",
            "Cluster                                                                 \n",
            "0                                                 0.955044              \n",
            "1                                                 0.945224              \n",
            "2                                                 0.920934              \n",
            "\n",
            "         Do you have medical coverage (private insurance or state-provided) which includes treatment of  mental health issues?  \\\n",
            "Cluster                                                                                                                          \n",
            "0                                                 0.708217                                                                       \n",
            "1                                                 0.646415                                                                       \n",
            "2                                                 0.556540                                                                       \n",
            "\n",
            "         Do you have previous employers?  \\\n",
            "Cluster                                    \n",
            "0                               0.991848   \n",
            "1                               1.000000   \n",
            "2                               0.411348   \n",
            "\n",
            "         Have you ever sought treatment for a mental health issue from a mental health professional?  \\\n",
            "Cluster                                                                                                \n",
            "0                                                 0.801630                                             \n",
            "1                                                 0.591315                                             \n",
            "2                                                 0.287234                                             \n",
            "\n",
            "         What is your age?  Cluster  \n",
            "Cluster                              \n",
            "0                40.739130      0.0  \n",
            "1                32.128991      1.0  \n",
            "2                31.854610      2.0  \n"
          ]
        }
      ]
    },
    {
      "cell_type": "code",
      "source": [
        "# Check the distribution of \"Have you had a mental health disorder in the past?\" across clusters\n",
        "print(\"Cluster-wise counts of Mental Health Disorder History:\")\n",
        "print(df.groupby(['Cluster', 'Have you had a mental health disorder in the past?']).size())\n",
        "\n"
      ],
      "metadata": {
        "colab": {
          "base_uri": "https://localhost:8080/"
        },
        "id": "-XymRX9y2kOe",
        "outputId": "999863bf-5aad-42c8-ef60-4972c4383755"
      },
      "execution_count": null,
      "outputs": [
        {
          "output_type": "stream",
          "name": "stdout",
          "text": [
            "Cluster-wise counts of Mental Health Disorder History:\n",
            "Cluster  Have you had a mental health disorder in the past?\n",
            "0        Uncertain                                              63\n",
            "         no                                                     63\n",
            "         yes                                                   242\n",
            "1        Uncertain                                             130\n",
            "         no                                                    240\n",
            "         yes                                                   413\n",
            "2        Uncertain                                              53\n",
            "         no                                                    148\n",
            "         yes                                                    81\n",
            "dtype: int64\n"
          ]
        }
      ]
    },
    {
      "cell_type": "code",
      "source": [
        "# Check the distribution of other categorical columns (if relevant)\n",
        "print(\"Cluster-wise counts of other categorical columns:\")\n",
        "print(df.groupby(['Cluster']).size())  # Modify for other categorical fields as needed"
      ],
      "metadata": {
        "colab": {
          "base_uri": "https://localhost:8080/"
        },
        "id": "2WPj_Qyr2mUK",
        "outputId": "4df9ca20-e35d-4bce-c728-25553b07c604"
      },
      "execution_count": null,
      "outputs": [
        {
          "output_type": "stream",
          "name": "stdout",
          "text": [
            "Cluster-wise counts of other categorical columns:\n",
            "Cluster\n",
            "0    368\n",
            "1    783\n",
            "2    282\n",
            "dtype: int64\n"
          ]
        }
      ]
    }
  ]
}